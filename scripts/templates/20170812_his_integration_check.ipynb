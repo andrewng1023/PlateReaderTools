{
 "cells": [
  {
   "cell_type": "code",
   "execution_count": 1,
   "metadata": {
    "collapsed": false,
    "deletable": true,
    "editable": true
   },
   "outputs": [],
   "source": [
    "import os\n",
    "base_dir = 'C:\\\\Users\\heine\\github\\PlateReaderTools'  #You will need to change this depending on which computer you are working on\n",
    "os.chdir(base_dir) \n",
    "\n",
    "#import sys\n",
    "from core import plate_reader_tools \n",
    "import pandas as pd\n",
    "import numpy as np\n",
    "# import math\n",
    "# import matplotlib\n",
    "import matplotlib.pyplot as plt\n",
    "import string\n",
    "import seaborn as sns\n",
    "from itertools import chain\n",
    "\n",
    "# import os\n",
    "# import sys\n",
    "\n",
    "# path = '/Users/andrewng/Documents/PlateReaderTools'\n",
    "# if not path in sys.path:\n",
    "#     sys.path.insert(1, path)\n",
    "# del path\n",
    "\n",
    "# from plate_reader_tools import *\n",
    "# import seaborn as sns\n",
    "# sns.set_style(\"white\")\n",
    "# sns.set_style(\"ticks\")\n",
    "\n",
    "%load_ext autoreload\n",
    "%autoreload 2\n",
    "%matplotlib notebook\n",
    "#%matplotlib inline"
   ]
  },
  {
   "cell_type": "code",
   "execution_count": 7,
   "metadata": {
    "collapsed": false,
    "deletable": true,
    "editable": true
   },
   "outputs": [],
   "source": [
    "dirname = base_dir + os.path.normpath(\"/scripts/templates\") + os.sep\n",
    "fname = dirname + \"20170812_HIS_integration_growth_20170316_BMH_24h.xlsx\"\n",
    "#date = fname[-13:-5]\n",
    "sheetname = 'Result sheet'\n",
    "skiprows = 50\n",
    "rows = 8\n",
    "columns = 12\n",
    "datalabels = ['OD','YFP'] \n",
    "cycles = 88\n",
    "horz = 0\n"
   ]
  },
  {
   "cell_type": "code",
   "execution_count": 8,
   "metadata": {
    "collapsed": false,
    "deletable": true,
    "editable": true
   },
   "outputs": [],
   "source": [
    "[d,time_list] = plate_reader_tools.readplate(fname,sheetname, skiprows, rows, columns, datalabels, cycles, horz)\n",
    "OD_data = d['OD']\n",
    "OD_data"
   ]
  },
  {
   "cell_type": "code",
   "execution_count": null,
   "metadata": {
    "collapsed": false,
    "deletable": true,
    "editable": true
   },
   "outputs": [],
   "source": [
    "OD_data_filtered, OVER_list = plate_reader_tools.over_filter(OD_data)"
   ]
  },
  {
   "cell_type": "code",
   "execution_count": null,
   "metadata": {
    "collapsed": false,
    "deletable": true,
    "editable": true
   },
   "outputs": [],
   "source": [
    "#Plot all wells in an array similar to the plate. \n",
    "letter_range = ['A','B','C','D','E','F','G','H']\n",
    "number_range = range(1,13)\n",
    "well_arr = plate_reader_tools.well_array_builder(letter_range,number_range)\n",
    "fig = plate_reader_tools.subplot_array(OD_data.replace('OVER',np.nan), well_arr, time_list)"
   ]
  },
  {
   "cell_type": "code",
   "execution_count": null,
   "metadata": {
    "collapsed": false,
    "deletable": true,
    "editable": true
   },
   "outputs": [],
   "source": [
    "#Build Multiindex dataframe to compare different conditions.  \n",
    "layer_names = ['Media','Strain','Background','Tech_Rep']\n",
    "backgrounds = ['w303','BY4741']\n",
    "media = ['YPD','SD-HIS','SDC']\n",
    "strains = ['+YTK190 1', '+YTK190 2', '+YTK190 3', '+pTMP136 1', '+pTMP136 2', '+pTMP136 3', 'AHN321', 'HES5-41','WCD230','yBMH126', 'yBMH127']\n",
    "tech_reps = ['TR1','TR2']      \n",
    "experiment_setup = [media, strains, backgrounds, tech_reps]      \n",
    "data_index = pd.MultiIndex.from_product(experiment_setup, names= layer_names)\n",
    "print(data_index.levels)\n",
    "print(data_index.names)\n",
    "         \n"
   ]
  },
  {
   "cell_type": "code",
   "execution_count": null,
   "metadata": {
    "collapsed": false,
    "deletable": true,
    "editable": true
   },
   "outputs": [],
   "source": [
    "#remove missing conditions from data\n",
    "# Step 1: make index list for the coordinates of all the missing items based on pairs of missing conditions. \n",
    " \n",
    "# #w303 background doesn't have 'WCD230','AHN321', 'yBMH126', 'yBMH127' strains. \n",
    "# 'HES5-41','yBMH126', 'yBMH127' don't have tech rep 2  \n",
    "missing_items = [('Background','w303','Strain','yBMH126'),\n",
    "                 ('Background','w303','Strain','yBMH127'),\n",
    "                 ('Background','w303','Strain','WCD230'),\n",
    "                 ('Background','w303','Strain','AHN321'),\n",
    "                 ('Background','BY4741','Strain','HES5-41'),\n",
    "                 ('Strain','yBMH126','Tech_Rep','TR2'),\n",
    "                 ('Strain','yBMH127','Tech_Rep','TR2'),\n",
    "                 ('Strain','HES5-41','Tech_Rep','TR2')\n",
    "                ]\n",
    "\n",
    "data_index_adjusted, inds_to_remove = plate_reader_tools.delete_multiindex_for_missing_conditions(missing_items, data_index)\n",
    "\n",
    "#Inds to remove should be constructed from this list of lists: \n",
    "#[[36, 37, 80, 81, 124, 125], [40, 41, 84, 85, 128, 129], [32, 33, 76, 77, 120, 121], [24, 25, 68, 69, 112, 113], [30, 31, 74, 75, 118, 119], [37, 39, 81, 83, 125, 127], [41, 43, 85, 87, 129, 131], [29, 31, 73, 75, 117, 119]]"
   ]
  },
  {
   "cell_type": "code",
   "execution_count": null,
   "metadata": {
    "collapsed": false,
    "deletable": true,
    "editable": true
   },
   "outputs": [],
   "source": [
    "#Step 2 assign wells in the correct order to the index.  This is a manuyal process - you either can usethis tool\n",
    "#to print out the order of the conditions so that you can generate a list of wells yourself or use\n",
    "#the input function to build it one well at a time.  \n",
    "#If you break in the middle of the routine the well_list will be there in memory or you can copy / paste it from the screen\n",
    "\n",
    "well_list = plate_reader_tools.view_or_input_exp_design(data_index_adjusted)\n"
   ]
  },
  {
   "cell_type": "markdown",
   "metadata": {
    "deletable": true,
    "editable": true
   },
   "source": [
    "\n",
    "print out list (1) or add wells one by one (2)2\n",
    "input well for ['YPD', '+YTK190 1', 'w303', 'TR1'] : F1\n",
    "correct well: F1? 1=Yes, 0 = No, exit = break loop1\n",
    "['F1']\n",
    "input well for ['YPD', '+YTK190 1', 'w303', 'TR2'] : F7\n",
    "correct well: F7? 1=Yes, 0 = No, exit = break loop1\n",
    "['F1', 'F7']\n",
    "input well for ['YPD', '+YTK190 1', 'BY4741', 'TR1'] : C1\n",
    "correct well: C1? 1=Yes, 0 = No, exit = break loop1\n",
    "['F1', 'F7', 'C1']\n",
    "input well for ['YPD', '+YTK190 1', 'BY4741', 'TR2'] : C7\n",
    "correct well: C7? 1=Yes, 0 = No, exit = break loop1\n",
    "['F1', 'F7', 'C1', 'C7']\n",
    "input well for ['YPD', '+YTK190 2', 'w303', 'TR1'] : G1\n",
    "correct well: G1? 1=Yes, 0 = No, exit = break loop1\n",
    "['F1', 'F7', 'C1', 'C7', 'G1']\n",
    "input well for ['YPD', '+YTK190 2', 'w303', 'TR2'] : G7\n",
    "correct well: G7? 1=Yes, 0 = No, exit = break loop1\n",
    "['F1', 'F7', 'C1', 'C7', 'G1', 'G7']\n",
    "input well for ['YPD', '+YTK190 2', 'BY4741', 'TR1'] : D1\n",
    "correct well: D1? 1=Yes, 0 = No, exit = break loop1\n",
    "['F1', 'F7', 'C1', 'C7', 'G1', 'G7', 'D1']\n",
    "input well for ['YPD', '+YTK190 2', 'BY4741', 'TR2'] : D7\n",
    "correct well: D7? 1=Yes, 0 = No, exit = break loop1\n",
    "['F1', 'F7', 'C1', 'C7', 'G1', 'G7', 'D1', 'D7']\n",
    "input well for ['YPD', '+YTK190 3', 'w303', 'TR1'] : H1\n",
    "correct well: H1? 1=Yes, 0 = No, exit = break loop1\n",
    "['F1', 'F7', 'C1', 'C7', 'G1', 'G7', 'D1', 'D7', 'H1']\n",
    "input well for ['YPD', '+YTK190 3', 'w303', 'TR2'] : H7\n",
    "correct well: H7? 1=Yes, 0 = No, exit = break loop1\n",
    "['F1', 'F7', 'C1', 'C7', 'G1', 'G7', 'D1', 'D7', 'H1', 'H7']\n",
    "input well for ['YPD', '+YTK190 3', 'BY4741', 'TR1'] : E1\n",
    "correct well: E1? 1=Yes, 0 = No, exit = break loop1\n",
    "['F1', 'F7', 'C1', 'C7', 'G1', 'G7', 'D1', 'D7', 'H1', 'H7', 'E1']\n",
    "input well for ['YPD', '+YTK190 3', 'BY4741', 'TR2'] : E7\n",
    "correct well: E7? 1=Yes, 0 = No, exit = break loop1\n",
    "['F1', 'F7', 'C1', 'C7', 'G1', 'G7', 'D1', 'D7', 'H1', 'H7', 'E1', 'E7']\n",
    "input well for ['YPD', '+pTMP136 1', 'w303', 'TR1'] : F2\n",
    "correct well: F2? 1=Yes, 0 = No, exit = break loop1\n",
    "['F1', 'F7', 'C1', 'C7', 'G1', 'G7', 'D1', 'D7', 'H1', 'H7', 'E1', 'E7', 'F2']\n",
    "input well for ['YPD', '+pTMP136 1', 'w303', 'TR2'] : F8\n",
    "correct well: F8? 1=Yes, 0 = No, exit = break loop1\n",
    "['F1', 'F7', 'C1', 'C7', 'G1', 'G7', 'D1', 'D7', 'H1', 'H7', 'E1', 'E7', 'F2', 'F8']\n",
    "input well for ['YPD', '+pTMP136 1', 'BY4741', 'TR1'] : C2\n",
    "correct well: C2? 1=Yes, 0 = No, exit = break loop1\n",
    "['F1', 'F7', 'C1', 'C7', 'G1', 'G7', 'D1', 'D7', 'H1', 'H7', 'E1', 'E7', 'F2', 'F8', 'C2']\n",
    "input well for ['YPD', '+pTMP136 1', 'BY4741', 'TR2'] : C8\n",
    "correct well: C8? 1=Yes, 0 = No, exit = break loop1\n",
    "['F1', 'F7', 'C1', 'C7', 'G1', 'G7', 'D1', 'D7', 'H1', 'H7', 'E1', 'E7', 'F2', 'F8', 'C2', 'C8']\n",
    "input well for ['YPD', '+pTMP136 2', 'w303', 'TR1'] : G2\n",
    "correct well: G2? 1=Yes, 0 = No, exit = break loop1\n",
    "['F1', 'F7', 'C1', 'C7', 'G1', 'G7', 'D1', 'D7', 'H1', 'H7', 'E1', 'E7', 'F2', 'F8', 'C2', 'C8', 'G2']\n",
    "input well for ['YPD', '+pTMP136 2', 'w303', 'TR2'] : G8\n",
    "correct well: G8? 1=Yes, 0 = No, exit = break loop1\n",
    "['F1', 'F7', 'C1', 'C7', 'G1', 'G7', 'D1', 'D7', 'H1', 'H7', 'E1', 'E7', 'F2', 'F8', 'C2', 'C8', 'G2', 'G8']\n",
    "input well for ['YPD', '+pTMP136 2', 'BY4741', 'TR1'] : D2\n",
    "correct well: D2? 1=Yes, 0 = No, exit = break loop1\n",
    "['F1', 'F7', 'C1', 'C7', 'G1', 'G7', 'D1', 'D7', 'H1', 'H7', 'E1', 'E7', 'F2', 'F8', 'C2', 'C8', 'G2', 'G8', 'D2']\n",
    "input well for ['YPD', '+pTMP136 2', 'BY4741', 'TR2'] : D8\n",
    "correct well: D8? 1=Yes, 0 = No, exit = break loop1\n",
    "['F1', 'F7', 'C1', 'C7', 'G1', 'G7', 'D1', 'D7', 'H1', 'H7', 'E1', 'E7', 'F2', 'F8', 'C2', 'C8', 'G2', 'G8', 'D2', 'D8']\n",
    "input well for ['YPD', '+pTMP136 3', 'w303', 'TR1'] : H2\n",
    "correct well: H2? 1=Yes, 0 = No, exit = break loop1\n",
    "['F1', 'F7', 'C1', 'C7', 'G1', 'G7', 'D1', 'D7', 'H1', 'H7', 'E1', 'E7', 'F2', 'F8', 'C2', 'C8', 'G2', 'G8', 'D2', 'D8', 'H2']\n",
    "input well for ['YPD', '+pTMP136 3', 'w303', 'TR2'] : H8\n",
    "correct well: H8? 1=Yes, 0 = No, exit = break loop1\n",
    "['F1', 'F7', 'C1', 'C7', 'G1', 'G7', 'D1', 'D7', 'H1', 'H7', 'E1', 'E7', 'F2', 'F8', 'C2', 'C8', 'G2', 'G8', 'D2', 'D8', 'H2', 'H8']\n",
    "input well for ['YPD', '+pTMP136 3', 'BY4741', 'TR1'] : E2\n",
    "correct well: E2? 1=Yes, 0 = No, exit = break loopE8\n",
    "['F1', 'F7', 'C1', 'C7', 'G1', 'G7', 'D1', 'D7', 'H1', 'H7', 'E1', 'E7', 'F2', 'F8', 'C2', 'C8', 'G2', 'G8', 'D2', 'D8', 'H2', 'H8', 'E2']\n",
    "input well for ['YPD', '+pTMP136 3', 'BY4741', 'TR2'] : E8\n",
    "correct well: E8? 1=Yes, 0 = No, exit = break loop1\n",
    "['F1', 'F7', 'C1', 'C7', 'G1', 'G7', 'D1', 'D7', 'H1', 'H7', 'E1', 'E7', 'F2', 'F8', 'C2', 'C8', 'G2', 'G8', 'D2', 'D8', 'H2', 'H8', 'E2', 'E8']\n",
    "input well for ['YPD', 'AHN321', 'BY4741', 'TR1'] : B1\n",
    "correct well: B1? 1=Yes, 0 = No, exit = break loop1\n",
    "['F1', 'F7', 'C1', 'C7', 'G1', 'G7', 'D1', 'D7', 'H1', 'H7', 'E1', 'E7', 'F2', 'F8', 'C2', 'C8', 'G2', 'G8', 'D2', 'D8', 'H2', 'H8', 'E2', 'E8', 'B1']\n",
    "input well for ['YPD', 'AHN321', 'BY4741', 'TR2'] : B7\n",
    "correct well: B7? 1=Yes, 0 = No, exit = break loop1\n",
    "['F1', 'F7', 'C1', 'C7', 'G1', 'G7', 'D1', 'D7', 'H1', 'H7', 'E1', 'E7', 'F2', 'F8', 'C2', 'C8', 'G2', 'G8', 'D2', 'D8', 'H2', 'H8', 'E2', 'E8', 'B1', 'B7']\n",
    "input well for ['YPD', 'HES5-41', 'w303', 'TR1'] : A7\n",
    "correct well: A7? 1=Yes, 0 = No, exit = break loop1\n",
    "['F1', 'F7', 'C1', 'C7', 'G1', 'G7', 'D1', 'D7', 'H1', 'H7', 'E1', 'E7', 'F2', 'F8', 'C2', 'C8', 'G2', 'G8', 'D2', 'D8', 'H2', 'H8', 'E2', 'E8', 'B1', 'B7', 'A7']\n",
    "input well for ['YPD', 'WCD230', 'BY4741', 'TR1'] : B2\n",
    "correct well: B2? 1=Yes, 0 = No, exit = break loop1\n",
    "['F1', 'F7', 'C1', 'C7', 'G1', 'G7', 'D1', 'D7', 'H1', 'H7', 'E1', 'E7', 'F2', 'F8', 'C2', 'C8', 'G2', 'G8', 'D2', 'D8', 'H2', 'H8', 'E2', 'E8', 'B1', 'B7', 'A7', 'B2']\n",
    "input well for ['YPD', 'WCD230', 'BY4741', 'TR2'] : B8\n",
    "correct well: B8? 1=Yes, 0 = No, exit = break loop1\n",
    "['F1', 'F7', 'C1', 'C7', 'G1', 'G7', 'D1', 'D7', 'H1', 'H7', 'E1', 'E7', 'F2', 'F8', 'C2', 'C8', 'G2', 'G8', 'D2', 'D8', 'H2', 'H8', 'E2', 'E8', 'B1', 'B7', 'A7', 'B2', 'B8']\n",
    "input well for ['YPD', 'yBMH126', 'BY4741', 'TR1'] : A1\n",
    "correct well: A1? 1=Yes, 0 = No, exit = break loop1\n",
    "['F1', 'F7', 'C1', 'C7', 'G1', 'G7', 'D1', 'D7', 'H1', 'H7', 'E1', 'E7', 'F2', 'F8', 'C2', 'C8', 'G2', 'G8', 'D2', 'D8', 'H2', 'H8', 'E2', 'E8', 'B1', 'B7', 'A7', 'B2', 'B8', 'A1']\n",
    "input well for ['YPD', 'yBMH127', 'BY4741', 'TR1'] : A2\n",
    "correct well: A2? 1=Yes, 0 = No, exit = break loop1\n",
    "['F1', 'F7', 'C1', 'C7', 'G1', 'G7', 'D1', 'D7', 'H1', 'H7', 'E1', 'E7', 'F2', 'F8', 'C2', 'C8', 'G2', 'G8', 'D2', 'D8', 'H2', 'H8', 'E2', 'E8', 'B1', 'B7', 'A7', 'B2', 'B8', 'A1', 'A2']\n",
    "input well for ['SD-HIS', '+YTK190 1', 'w303', 'TR1'] : asdfas\n",
    "correct well: asdfas? 1=Yes, 0 = No, exit = break loopexit\n",
    "exiting loop\n",
    "\n",
    "\n",
    "25, 26 (231)\n",
    "30, 31 (126, 127)"
   ]
  },
  {
   "cell_type": "code",
   "execution_count": null,
   "metadata": {
    "collapsed": false,
    "deletable": true,
    "editable": true
   },
   "outputs": [],
   "source": [
    "#The YPD list was generated with the routine above.  The SDC lists were then generated from the YPD list\n",
    "#manually typing in coordinates.  This will be customized for each experiment layout.  \n",
    "\n",
    "well_list = {'YPD' : ['F1', 'F7', 'C1', 'C7', 'G1', 'G7', 'D1', 'D7', 'H1', 'H7', \n",
    "                      'E1', 'E7', 'F2', 'F8', 'C2', 'C8', 'G2', 'G8', 'D2', 'D8', \n",
    "                      'H2', 'H8', 'E2', 'E8', 'B1', 'B7', 'A7', 'B2', 'B8', 'A1',\n",
    "                      'A2'], \n",
    "            'SD-HIS' : ['F3', 'F9', 'C3', 'C9', 'G3', 'G9', 'D3', 'D9', 'H3', 'H9', 'E3', 'E9',\n",
    "                        'F4', 'F10', 'C4', 'C10', 'G4', 'G10', 'D4', 'D10', 'H4', 'H10', 'E4', 'E10',\n",
    "                        'B3', 'B9', 'A9', 'B4', 'B10', 'A3', 'A4'], \n",
    "             'SDC' : ['F5', 'F11', 'C5', 'C11', 'G5', 'G11', 'D5', 'D11', 'H5', 'H11', 'E5', 'E11',\n",
    "                    'F6', 'F12', 'C6', 'C12', 'G6', 'G12', 'D6', 'D12', 'H6', 'H12', 'E6', 'E12',\n",
    "                    'B5', 'B11', 'A11', 'B6', 'B11', 'A5', 'A6']}\n"
   ]
  },
  {
   "cell_type": "code",
   "execution_count": null,
   "metadata": {
    "collapsed": false,
    "deletable": true,
    "editable": true
   },
   "outputs": [],
   "source": [
    "blank = {'YPD':np.mean(OD_data['A8']),\n",
    "        'SD-HIS':np.mean(OD_data['A10']),\n",
    "        'SDC':np.mean(OD_data['A12'])}\n",
    "\n",
    "growth_data = []\n",
    "for medium in media: \n",
    "    growth_data.append([OD_data[well]-blank[medium] for well in well_list[medium] ])\n",
    "growth_data = list(chain.from_iterable(growth_data))\n",
    "\n",
    "                          \n",
    "                          \n",
    "growth_data_df = pd.DataFrame(growth_data, index=data_index_adjusted)\n",
    "\n",
    "#make columns time points\n",
    "dt = 15.0/60.0\n",
    "growth_data_df.columns = growth_data_df.columns*dt"
   ]
  },
  {
   "cell_type": "code",
   "execution_count": null,
   "metadata": {
    "collapsed": false,
    "deletable": true,
    "editable": true
   },
   "outputs": [],
   "source": [
    "#Plot raw growth curves for all conditions\n",
    "\n",
    "fig, ax = plt.subplots(2, 3,sharex = True, sharey = True)\n",
    "\n",
    "for jj, medium in enumerate(media): \n",
    "    for kk, background in enumerate(backgrounds):\n",
    "        #Select data with correct medium and background\n",
    "        growth_data_df_med_bg = growth_data_df.xs((medium,background),level = ['Media','Background'])\n",
    "        \n",
    "        #average across technical replicates.\n",
    "        growth_data_df_med_bg_avg = growth_data_df_med_bg.mean(level='Strain')\n",
    "\n",
    "        #Plot growth curves\n",
    "        #only show labels on right side of the plot. \n",
    "        if jj ==2: \n",
    "            growth_data_df_med_bg_avg.transpose().plot(ax = ax[kk,jj], title = medium + ' ' + background, legend = True)\n",
    "            ax[kk,jj].legend(loc='center left', bbox_to_anchor=(1, 0.5))\n",
    "        else: \n",
    "            growth_data_df_med_bg_avg.transpose().plot(ax = ax[kk,jj], title = medium + ' ' + background, legend = False)\n",
    "\n",
    "\n"
   ]
  },
  {
   "cell_type": "code",
   "execution_count": null,
   "metadata": {
    "collapsed": false,
    "deletable": true,
    "editable": true
   },
   "outputs": [],
   "source": [
    "#Plot log2 growth curves for all conditions\n",
    "fig, ax = plt.subplots(2, 3,sharex = True, sharey = True)\n",
    "\n",
    "for jj, medium in enumerate(media): \n",
    "    for kk, background in enumerate(backgrounds):\n",
    "        #Select data with correct medium and background\n",
    "        growth_data_df_med_bg = growth_data_df.xs((medium,background),level = ['Media','Background'])\n",
    "        \n",
    "        #average across technical replicates.\n",
    "        growth_data_df_med_bg_avg = growth_data_df_med_bg.mean(level='Strain')\n",
    "        \n",
    "        #take Log(base2) of data. \n",
    "        growth_data_df_med_bg_avg_log = np.log(growth_data_df_med_bg_avg)/np.log(2)\n",
    "        \n",
    "        #Plot growth curves\n",
    "        #only show labels on right side of the plot. \n",
    "        if jj ==2: \n",
    "            growth_data_df_med_bg_avg_log.transpose().plot(ax = ax[kk,jj], title = medium + ' ' + background, legend = True)\n",
    "            ax[kk,jj].legend(loc='center left', bbox_to_anchor=(1, 0.5))\n",
    "        else: \n",
    "            growth_data_df_med_bg_avg_log.transpose().plot(ax = ax[kk,jj], title = medium + ' ' + background, legend = False)\n",
    "\n",
    "\n"
   ]
  },
  {
   "cell_type": "markdown",
   "metadata": {
    "collapsed": false,
    "deletable": true,
    "editable": true
   },
   "source": [
    "Looking at the log plot the linear growth range is between about 2h and 7h.  I'll just use YPD for the next plot which will be a bar plot of growth rates. "
   ]
  },
  {
   "cell_type": "code",
   "execution_count": null,
   "metadata": {
    "collapsed": false,
    "deletable": true,
    "editable": true
   },
   "outputs": [],
   "source": [
    "#This actually only seems true for BY4741.  For W303, the linear range looks more like 0 to 2\n"
   ]
  },
  {
   "cell_type": "code",
   "execution_count": null,
   "metadata": {
    "collapsed": false,
    "deletable": true,
    "editable": true
   },
   "outputs": [],
   "source": [
    "#plot log of YPD BY4741 strains in linear range\n",
    "\n",
    "#In between time 1 and 5 log plot looked linear.  \n",
    "t = growth_data_df_med_bg_avg_log.columns\n",
    "t_low = 1.0 \n",
    "t_high = 5.0\n",
    "t_check = (t>t_low)*(t<t_high)\n",
    "#finds indices of all time values above t_low\n",
    "t_inds = [ind for ind,val in enumerate(t_check) if val==True]\n",
    "\n",
    "t_linear_range = t[t_inds]\n",
    "\n",
    "#Select YPD media and BY4741 background\n",
    "media = 'YPD'\n",
    "background = 'BY4741'\n",
    "growth_data_df_med_bg = growth_data_df.xs((media,background),level = ['Media','Background'])\n",
    "\n",
    "#Take average\n",
    "growth_data_df_med_bg_avg = growth_data_df_med_bg.mean(level='Strain')\n",
    "\n",
    "#Take Log2\n",
    "growth_data_df_med_bg_avg_log = np.log(growth_data_df_med_bg_avg)/np.log(2)\n",
    "\n",
    "#Extract only linear range\n",
    "growth_data_df_med_bg_avg_log_linrange = growth_data_df_med_bg_avg_log.iloc[:,t_inds]\n",
    "\n",
    "#Plot\n",
    "fix, ax = plt.subplots()\n",
    "growth_data_df_med_bg_avg_log_linrange.transpose().plot(ax = ax, title = media + ' ' + background, legend = True)\n",
    "ax.legend(loc='center left', bbox_to_anchor=(1, 0.5))\n",
    "    "
   ]
  },
  {
   "cell_type": "code",
   "execution_count": null,
   "metadata": {
    "collapsed": false,
    "deletable": true,
    "editable": true
   },
   "outputs": [],
   "source": [
    "#Make Barplot of slopes: \n",
    "\n",
    "#Look for good sns method for plotting a barplot of the different strains.  \n",
    "fig, ax = plt.subplots()\n",
    "growth_rates_YPD_BY4741 = pd.DataFrame(growth_data_df_med_bg_avg_log_linrange.T.apply(plate_reader_tools.get_slope))\n",
    "growth_rates_YPD_BY4741[\"new_labels\"] = [\"New His 1\", \"New His 2\", \"New His 3\", \"Old His 1\", \"Old His 2\", \"Old His 3\", \"WT+dCas9\",\"WT\",\"Old strain no deg\",\"Old strain deg\"]\n",
    "growth_rates_YPD_BY4741.set_index(\"new_labels\",inplace=True)\n",
    "growth_rates_YPD_BY4741.plot(kind='bar', ax=ax, rot = 45, legend = False,)\n",
    "ax.set_ylabel(\"Growth rate (doublings/hr)\")\n"
   ]
  },
  {
   "cell_type": "code",
   "execution_count": null,
   "metadata": {
    "collapsed": false,
    "deletable": true,
    "editable": true
   },
   "outputs": [],
   "source": [
    "#plot log of YPD W303 strains in linear range\n",
    "\n",
    "#In between time 0 and 1.5 log plot looked linear.  \n",
    "t = growth_data_df_med_bg_avg_log.columns\n",
    "t_low = 0.0 \n",
    "t_high = 1.5\n",
    "t_check = (t>t_low)*(t<t_high)\n",
    "#finds indices of all time values above t_low\n",
    "t_inds = [ind for ind,val in enumerate(t_check) if val==True]\n",
    "\n",
    "t_linear_range = t[t_inds]\n",
    "\n",
    "#Select YPD media and BY4741 background\n",
    "media = 'YPD'\n",
    "background = 'w303'\n",
    "growth_data_df_med_bg = growth_data_df.xs((media,background),level = ['Media','Background'])\n",
    "\n",
    "#Take average\n",
    "growth_data_df_med_bg_avg = growth_data_df_med_bg.mean(level='Strain')\n",
    "\n",
    "#Take Log2\n",
    "growth_data_df_med_bg_avg_log = np.log(growth_data_df_med_bg_avg)/np.log(2)\n",
    "\n",
    "#Extract only linear range\n",
    "growth_data_df_med_bg_avg_log_linrange = growth_data_df_med_bg_avg_log.iloc[:,t_inds]\n",
    "\n",
    "#Plot\n",
    "fix, ax = plt.subplots()\n",
    "growth_data_df_med_bg_avg_log_linrange.transpose().plot(ax = ax, title = media + ' ' + background, legend = True)\n",
    "ax.legend(loc='center left', bbox_to_anchor=(1, 0.5))"
   ]
  },
  {
   "cell_type": "code",
   "execution_count": null,
   "metadata": {
    "collapsed": false,
    "deletable": true,
    "editable": true
   },
   "outputs": [],
   "source": [
    "#Make Barplot of slopes: \n",
    "\n",
    "#Look for good sns method for plotting a barplot of the different strains.  \n",
    "fig, ax = plt.subplots()\n",
    "growth_rates_YPD_W303 = pd.DataFrame(growth_data_df_med_bg_avg_log_linrange.T.apply(plate_reader_tools.get_slope))\n",
    "growth_rates_YPD_W303[\"new_labels\"] = [\"New His 1\", \"New His 2\", \"New His 3\", \"Old His 1\", \"Old His 2\", \"Old His 3\", \"WT\"]\n",
    "growth_rates_YPD_W303.set_index(\"new_labels\",inplace=True)\n",
    "growth_rates_YPD_W303.plot(kind='bar', ax=ax, rot = 45, legend = False,)\n",
    "ax.set_ylabel(\"Growth rate (doublings/hr)\")\n",
    "#fig.savefig(dirname + \"plots//YPD_w303_growth_rate.png\")"
   ]
  }
 ],
 "metadata": {
  "anaconda-cloud": {},
  "kernelspec": {
   "display_name": "Python 3",
   "language": "python",
   "name": "python3"
  },
  "language_info": {
   "codemirror_mode": {
    "name": "ipython",
    "version": 3
   },
   "file_extension": ".py",
   "mimetype": "text/x-python",
   "name": "python",
   "nbconvert_exporter": "python",
   "pygments_lexer": "ipython3",
   "version": "3.5.2"
  }
 },
 "nbformat": 4,
 "nbformat_minor": 0
}

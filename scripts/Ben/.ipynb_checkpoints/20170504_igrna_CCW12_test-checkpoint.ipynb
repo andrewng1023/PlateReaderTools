{
 "cells": [
  {
   "cell_type": "code",
   "execution_count": 1,
   "metadata": {
    "collapsed": true
   },
   "outputs": [],
   "source": [
    "import os\n",
    "base_dir = 'C:\\\\Users\\heine\\github\\PlateReaderTools'\n",
    "os.chdir(base_dir) \n",
    "\n",
    "#import sys\n",
    "from core import plate_reader_tools \n",
    "import pandas as pd\n",
    "import numpy as np\n",
    "# import math\n",
    "# import matplotlib\n",
    "import matplotlib.pyplot as plt\n",
    "import string\n",
    "import seaborn as sns\n",
    "from itertools import chain\n",
    "\n",
    "# import os\n",
    "# import sys\n",
    "\n",
    "# path = '/Users/andrewng/Documents/PlateReaderTools'\n",
    "# if not path in sys.path:\n",
    "#     sys.path.insert(1, path)\n",
    "# del path\n",
    "\n",
    "# from plate_reader_tools import *\n",
    "# import seaborn as sns\n",
    "# sns.set_style(\"white\")\n",
    "# sns.set_style(\"ticks\")\n",
    "\n",
    "%load_ext autoreload\n",
    "%autoreload 2\n",
    "%matplotlib notebook\n",
    "#%matplotlib inline"
   ]
  },
  {
   "cell_type": "code",
   "execution_count": 11,
   "metadata": {
    "collapsed": true
   },
   "outputs": [],
   "source": [
    "dirname = \"C:\\\\Users\\\\heine\\\\Google Drive\\\\UCSF\\\\ElSamad_Lab\\\\CRISPR iGRNA\\\\experiments\\\\plate_reader\\\\\"\n",
    "fname = dirname + \"20170504_BMH_24H_OD_mRFP_sfGFP_Venus_20170505_141316.xlsx\"\n",
    "#date = fname[-13:-5]\n",
    "sheetname = 'Result sheet'\n",
    "skiprows = 100  #skip until the row that has the label (i.e. OD) for the readout.\n",
    "rows = 8\n",
    "columns = 12\n",
    "datalabels = ['OD','sfGFP','mRFP','Venus'] \n",
    "cycles = 95\n",
    "horz = 0"
   ]
  },
  {
   "cell_type": "code",
   "execution_count": 5,
   "metadata": {
    "collapsed": false
   },
   "outputs": [
    {
     "data": {
      "text/plain": [
       "'C:\\\\Users\\\\heine\\\\Google Drive\\\\UCSF\\\\ElSamad_Lab\\\\CRISPR iGRNA\\\\experiments\\\\plate_reader\\\\20170504_BMH_24H_OD_mRFP_sfGFP_Venus_20170505_141316.xlsx'"
      ]
     },
     "execution_count": 5,
     "metadata": {},
     "output_type": "execute_result"
    }
   ],
   "source": [
    "fname"
   ]
  },
  {
   "cell_type": "code",
   "execution_count": 12,
   "metadata": {
    "collapsed": true
   },
   "outputs": [],
   "source": [
    "[d,time_list] = plate_reader_tools.readplate(fname,sheetname, skiprows, rows, columns, datalabels, cycles, horz)\n",
    "OD_data = d['OD']\n"
   ]
  },
  {
   "cell_type": "code",
   "execution_count": 14,
   "metadata": {
    "collapsed": false
   },
   "outputs": [],
   "source": [
    "sfGFP_data = d['sfGFP']"
   ]
  },
  {
   "cell_type": "code",
   "execution_count": 13,
   "metadata": {
    "collapsed": false,
    "scrolled": true
   },
   "outputs": [
    {
     "name": "stdout",
     "output_type": "stream",
     "text": [
      "No OVER values in data\n"
     ]
    }
   ],
   "source": [
    "OD_data_filtered, OVER_list = over_filter(OD_data)\n",
    "\n",
    "# OVER_list = [index for (index, value) in enumerate(OD_data.isin(['OVER']).any()) if value] \n",
    "# if len(OVER_list)==0:\n",
    "#     print('No OVER values in data')\n",
    "# else: \n",
    "#     print('OVER value found in well(s): \\n' + '\\n'.join(OVER_list))\n",
    "#     OD_data_filtered = OD_data.replace('OVER',np.nan)\n"
   ]
  }
 ],
 "metadata": {
  "kernelspec": {
   "display_name": "Python 3",
   "language": "python",
   "name": "python3"
  },
  "language_info": {
   "codemirror_mode": {
    "name": "ipython",
    "version": 3
   },
   "file_extension": ".py",
   "mimetype": "text/x-python",
   "name": "python",
   "nbconvert_exporter": "python",
   "pygments_lexer": "ipython3",
   "version": "3.5.2"
  }
 },
 "nbformat": 4,
 "nbformat_minor": 2
}
